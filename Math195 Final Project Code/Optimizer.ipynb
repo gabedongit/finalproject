{
 "cells": [
  {
   "cell_type": "markdown",
   "metadata": {},
   "source": [
    "# Optimizer\n",
    "This notebook handles running optimized ensemble analysis, specifically the Gingleator class from `gerrychain`. It takes in shapefiles that have already been run through `Ensemble Prep.ipynb`"
   ]
  },
  {
   "cell_type": "code",
   "execution_count": 47,
   "metadata": {},
   "outputs": [],
   "source": [
    "import geopandas as gpd\n",
    "import pandas as pd\n",
    "import shapely\n",
    "import numpy as np\n",
    "import matplotlib.pyplot as plt\n",
    "\n",
    "import gerrychain\n",
    "from gerrychain.updaters import cut_edges, Tally\n",
    "from gerrychain import (GeographicPartition, Partition, Graph, MarkovChain,\n",
    "                        proposals, updaters, constraints, accept, Election)\n",
    "from gerrychain.optimization import SingleMetricOptimizer, Gingleator\n",
    "from gerrychain.tree import recursive_tree_part\n",
    "from functools import partial\n",
    "import pandas as pd\n",
    "\n",
    "from networkx.readwrite import json_graph\n",
    "import matplotlib.pyplot as plt\n",
    "from tqdm import tqdm\n",
    "import numpy as np\n",
    "import random\n",
    "\n"
   ]
  },
  {
   "cell_type": "markdown",
   "metadata": {},
   "source": [
    "### Add a file prepared for ensemble analysis (see Ensemble Prep.ipynb) as the arg for the gpd.read_file() func"
   ]
  },
  {
   "cell_type": "code",
   "execution_count": 48,
   "metadata": {},
   "outputs": [],
   "source": [
    "state_gdf = gpd.read_file(\"South Dakota/SD_ready_4_ensemble/SD_ready_4_ensemble.shp\")"
   ]
  },
  {
   "cell_type": "markdown",
   "metadata": {},
   "source": [
    "Convert gdf to graph"
   ]
  },
  {
   "cell_type": "code",
   "execution_count": 49,
   "metadata": {},
   "outputs": [
    {
     "name": "stderr",
     "output_type": "stream",
     "text": [
      "/home/gabed/Documents/Fall_24/Math195/Final_Project/.conda/lib/python3.10/site-packages/gerrychain/graph/graph.py:266: UserWarning: Geometry is in a geographic CRS. Results from 'area' are likely incorrect. Use 'GeoSeries.to_crs()' to re-project geometries to a projected CRS before this operation.\n",
      "\n",
      "  areas = df.geometry.area.to_dict()\n"
     ]
    }
   ],
   "source": [
    "state_graph = Graph.from_geodataframe(state_gdf)"
   ]
  },
  {
   "cell_type": "markdown",
   "metadata": {},
   "source": [
    "Setting up some initial variables that our partition object is going to want. Ensure that the population tolerance is changed in accordance with the laws of the state that you're trying to run an analysis for. Same for the district count of course."
   ]
  },
  {
   "cell_type": "code",
   "execution_count": 50,
   "metadata": {},
   "outputs": [],
   "source": [
    "tot_pop = sum([state_graph.nodes()[v]['P1_001N'] for v in state_graph.nodes()])\n",
    "num_dist = 35\n",
    "ideal_pop = tot_pop/num_dist\n",
    "pop_tolerance = 0.07 #Sometiems has to be raised to an unreasonable level to work unfortunately\n",
    "initial_plan = recursive_tree_part(state_graph, range(num_dist), ideal_pop, 'P1_001N', pop_tolerance, 100)"
   ]
  },
  {
   "cell_type": "markdown",
   "metadata": {},
   "source": [
    "### Use a preexisting plan"
   ]
  },
  {
   "cell_type": "markdown",
   "metadata": {},
   "source": [
    "**CHANGE FROM MARKDOWN TO PYTHON TO USE**\n",
    "\n",
    "#Set up partition object\n",
    "initial_partition = GeographicPartition(\n",
    "    graph=state_graph, # dual graph\n",
    "    assignment=\"district\",\n",
    "    updaters = { \n",
    "        \"our cut edges\": cut_edges, \n",
    "        \"district population\": Tally(\"P1_001N\", alias = \"district population\"), \n",
    "        \"district NAPOP\": Tally(\"P1_005N\", alias = \"district NAPOP\"),\n",
    "        \"district NAPOP_MIXED\": Tally(\"P1_012N\", alias = \"district NAPOP_MIXED\"),\n",
    "        \"R Votes\": Tally(\"G20PRERTRU\", alias = \"R Votes\"), \n",
    "        \"D Votes\": Tally(\"G20PREDBID\", alias = \"D Votes\")\n",
    "    }\n",
    ") "
   ]
  },
  {
   "cell_type": "markdown",
   "metadata": {},
   "source": [
    "### Or make your own plan"
   ]
  },
  {
   "cell_type": "code",
   "execution_count": 51,
   "metadata": {},
   "outputs": [],
   "source": [
    "initial_partition = Partition(\n",
    "    graph=state_graph, # dual graph\n",
    "    assignment = initial_plan, # initial districting plan\n",
    "    updaters = { \n",
    "        \"our cut edges\": cut_edges, \n",
    "        \"district population\": Tally(\"P1_001N\", alias = \"district population\"), \n",
    "        \"district NAPOP\": Tally(\"P1_005N\", alias = \"district NAPOP\"),\n",
    "        \"district NAPOP_MIXED\": Tally(\"P1_012N\", alias = \"district NAPOP_MIXED\"),\n",
    "        \"R Votes\": Tally(\"G20PRERTRU\", alias = \"R Votes\"), \n",
    "        \"D Votes\": Tally(\"G20PREDBID\", alias = \"D Votes\")\n",
    "    }\n",
    ") "
   ]
  },
  {
   "cell_type": "code",
   "execution_count": 52,
   "metadata": {},
   "outputs": [],
   "source": [
    "rw_proposal = partial(proposals.recom, ## how you choose a next districting plan\n",
    "                      pop_col = \"P1_001N\", ## What data describes population? \n",
    "                      pop_target = ideal_pop, ## What the target/ideal population is for each district \n",
    "                                              ## (we calculated ideal pop above)\n",
    "                      epsilon = pop_tolerance,  ## how far from ideal population you can deviate\n",
    "                                              ## (we set pop_tolerance above)\n",
    "                      node_repeats = 1 ## number of times to repeat bipartition.  Can increase if you get a BipartitionWarning\n",
    "                      )\n",
    "\n",
    "constraints = constraints.within_percent_of_ideal_population(initial_partition, pop_tolerance, \"district population\")\n"
   ]
  },
  {
   "cell_type": "markdown",
   "metadata": {},
   "source": [
    "## Run Gingleator\n",
    "See https://gerrychain.readthedocs.io/en/stable/user/optimizers/ for more information.\n",
    "This is a class provided by gerrychain that is an optimization method meant to maximize for majority-minority district for a specfic minority group. Basically meant to test for the first of the Gingles criteria. Needless to say it's a useful tool for our purposes."
   ]
  },
  {
   "cell_type": "code",
   "execution_count": 53,
   "metadata": {},
   "outputs": [],
   "source": [
    "#Proposal function\n",
    "gingles = Gingleator(\n",
    "    rw_proposal,\n",
    "    constraints,\n",
    "    initial_partition,\n",
    "    minority_pop_col=\"district NAPOP\", #plug in our target minority (Native American by district)\n",
    "    total_pop_col=\"district population\", #Total population\n",
    "    score_function=Gingleator.reward_partial_dist\n",
    ")"
   ]
  },
  {
   "cell_type": "markdown",
   "metadata": {},
   "source": [
    "# Running the Optimizer\n",
    "Uses three seperate optimization methods which I explain more fully in the writeup."
   ]
  },
  {
   "cell_type": "code",
   "execution_count": 54,
   "metadata": {},
   "outputs": [
    {
     "name": "stderr",
     "output_type": "stream",
     "text": [
      "100%|██████████| 30000/30000 [03:30<00:00, 142.80it/s]\n",
      "100%|██████████| 30000/30000 [03:10<00:00, 157.65it/s]\n",
      "100%|██████████| 30000/30000 [03:06<00:00, 160.62it/s]\n"
     ]
    }
   ],
   "source": [
    "total_steps = 30000\n",
    "\n",
    "# Short Bursts\n",
    "max_scores_sb = np.zeros(total_steps)\n",
    "scores_sb = np.zeros(total_steps)\n",
    "for i, part in enumerate(gingles.short_bursts(10, 3000, with_progress_bar=True)):\n",
    "    max_scores_sb[i] = gingles.best_score\n",
    "    scores_sb[i] = gingles.score(part)\n",
    "\n",
    "# Simulated Annealing\n",
    "max_scores_anneal = np.zeros(total_steps)\n",
    "scores_anneal = np.zeros(total_steps)\n",
    "for i, part in enumerate(\n",
    "    gingles.simulated_annealing(\n",
    "        total_steps,\n",
    "        gingles.jumpcycle_beta_function(1000, 4000),\n",
    "        beta_magnitude=500,\n",
    "        with_progress_bar=True\n",
    "    )\n",
    "):\n",
    "    max_scores_anneal[i] = gingles.best_score\n",
    "    scores_anneal[i] = gingles.score(part)\n",
    "\n",
    "# Tilted Runs\n",
    "max_scores_tilt = np.zeros(total_steps)\n",
    "scores_tilt = np.zeros(total_steps)\n",
    "for i, part in enumerate(gingles.tilted_run(total_steps, 0.125, with_progress_bar=True)):\n",
    "    max_scores_tilt[i] = gingles.best_score\n",
    "    scores_tilt[i] = gingles.score(part)"
   ]
  },
  {
   "cell_type": "markdown",
   "metadata": {},
   "source": [
    "Plotting our data and exporting the image"
   ]
  },
  {
   "cell_type": "code",
   "execution_count": null,
   "metadata": {},
   "outputs": [
    {
     "data": {
      "image/png": "[encoded data removed]",
      "text/plain": [
       "<Figure size 1200x600 with 1 Axes>"
      ]
     },
     "metadata": {},
     "output_type": "display_data"
    }
   ],
   "source": [
    "fig, ax = plt.subplots(figsize=(12,6))\n",
    "plt.plot(max_scores_sb, label=\"Short Bursts\")\n",
    "plt.plot(max_scores_anneal, label=\"Simulated Annealing\")\n",
    "plt.plot(max_scores_tilt, label=\"Tilted Run\")\n",
    "plt.xlabel(\"Steps\", fontsize=20)\n",
    "plt.ylabel(\"Max Score Observered\", fontsize=20)\n",
    "plt.legend()\n",
    "\n",
    "\n",
    "\n",
    "from pathlib import Path\n",
    "Path(\"Plots/SD/ensemble/optimized/\").mkdir(parents=True, exist_ok=True)\n",
    "\n",
    "plt.savefig('Plots/SD/ensemble/optimized/native_single_optimized' + str(random.randint(1, 50000))) #random number to prevent overwrites \n",
    "plt.show()\n",
    "\n"
   ]
  }
 ],
 "metadata": {
  "kernelspec": {
   "display_name": "Python 3",
   "language": "python",
   "name": "python3"
  },
  "language_info": {
   "codemirror_mode": {
    "name": "ipython",
    "version": 3
   },
   "file_extension": ".py",
   "mimetype": "text/x-python",
   "name": "python",
   "nbconvert_exporter": "python",
   "pygments_lexer": "ipython3",
   "version": "3.10.16"
  }
 },
 "nbformat": 4,
 "nbformat_minor": 2
}
