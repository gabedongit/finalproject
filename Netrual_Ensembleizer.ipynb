{
 "cells": [
  {
   "cell_type": "markdown",
   "metadata": {},
   "source": [
    "# Neutral Ensembleizer\n",
    "This notebook handles running neutral ensemble analysis. It takes in shapefiles that have already been run through `Ensemble Prep.ipynb`\n",
    "<span style=\"color:red\">**CHANGE THE FILE NAMES FOR EXPORTS**</span>."
   ]
  },
  {
   "cell_type": "markdown",
   "metadata": {},
   "source": [
    "### Imports"
   ]
  },
  {
   "cell_type": "code",
   "execution_count": null,
   "metadata": {},
   "outputs": [],
   "source": [
    "# For working with graphs\n",
    "import networkx as nx\n",
    "# For making plots\n",
    "import matplotlib.pyplot as plt\n",
    "import numpy as np\n",
    "\n",
    "# Needed for gerrchain\n",
    "import gerrychain   \n",
    "from gerrychain import Graph, Partition, proposals, updaters, constraints, accept, MarkovChain, GeographicPartition\n",
    "from gerrychain.updaters import cut_edges, Tally\n",
    "from gerrychain.tree import recursive_tree_part\n",
    "from gerrychain.proposals import recom\n",
    "from gerrychain.accept import always_accept\n",
    "from functools import partial\n",
    "import geopandas as gpd\n",
    "import pandas as pd\n",
    "\n",
    "# For making plots\n",
    "import matplotlib.pyplot as plt\n",
    "import numpy as np\n",
    "\n",
    "# Needed for gerrchain\n",
    "import gerrychain   \n",
    "from gerrychain import Graph, Partition, proposals, updaters, constraints, accept, MarkovChain, GeographicPartition\n",
    "from gerrychain.updaters import cut_edges, Tally\n",
    "from gerrychain.tree import recursive_tree_part\n",
    "from gerrychain.proposals import recom\n",
    "from gerrychain.accept import always_accept\n",
    "from functools import partial\n",
    "import geopandas as gpd\n",
    "import pandas as pd\n",
    "\n",
    "#For maup.assign to add current plans\n",
    "import maup\n",
    "\n",
    "import random\n"
   ]
  },
  {
   "cell_type": "markdown",
   "metadata": {},
   "source": [
    "### Making the Ensemble"
   ]
  },
  {
   "cell_type": "markdown",
   "metadata": {},
   "source": [
    "Import our .shp that we prepared in `Ensemble Prep.ipynb`"
   ]
  },
  {
   "cell_type": "code",
   "execution_count": null,
   "metadata": {},
   "outputs": [],
   "source": [
    "state_gdf = gpd.read_file(\"Montana/MT_ready_4_ensemble/MT_ready_4_ensemble.shp\")"
   ]
  },
  {
   "cell_type": "markdown",
   "metadata": {},
   "source": [
    "Add a current districting plan to place it on the boxplots."
   ]
  },
  {
   "cell_type": "code",
   "execution_count": null,
   "metadata": {},
   "outputs": [],
   "source": [
    "current_districting_plan = gpd.read_file(\"Montana/Final_Senate_Districts_2023 2023-02-20/Final_SenateDistricts_Errate_02_23_2023 2023-02-23.shp\")\n",
    "current_districting_plan=current_districting_plan.to_crs(4269)\n",
    "precincts_to_districts_assignment = maup.assign(state_gdf.geometry, current_districting_plan.geometry)\n",
    "state_gdf['district'] = precincts_to_districts_assignment"
   ]
  },
  {
   "cell_type": "code",
   "execution_count": null,
   "metadata": {},
   "outputs": [],
   "source": [
    "state_graph = Graph.from_geodataframe(state_gdf) #Convert gdf into a graph"
   ]
  },
  {
   "cell_type": "code",
   "execution_count": null,
   "metadata": {},
   "outputs": [],
   "source": [
    "tot_pop = sum([state_graph.nodes()[v]['P1_001N'] for v in state_graph.nodes()])\n",
    "num_dist = 50\n",
    "ideal_pop = tot_pop/num_dist\n",
    "pop_tolerance = 0.1 #At times had to increase this beyond what was desirable in order for recursive_tree_part to work\n",
    "initial_plan = recursive_tree_part(state_graph, range(num_dist), ideal_pop, 'P1_001N', pop_tolerance, 100)"
   ]
  },
  {
   "cell_type": "code",
   "execution_count": null,
   "metadata": {},
   "outputs": [],
   "source": [
    "#Set up partition object\n",
    "\n",
    "initial_partition = Partition(\n",
    "    state_graph, # dual graph\n",
    "    assignment = initial_plan, # initial districting plan\n",
    "    updaters = { \n",
    "        \"our cut edges\": cut_edges, \n",
    "        \"district population\": Tally(\"P1_001N\", alias = \"district population\"), \n",
    "        \"district NAPOP\": Tally(\"P1_005N\", alias = \"district NAPOP\"),\n",
    "        \"district NAPOP_MIXED\": Tally(\"P1_012N\", alias = \"district NAPOP_MIXED\"),\n",
    "        \"R Votes\": Tally(\"G20PRERTRU\", alias = \"R Votes\"), \n",
    "        \"D Votes\": Tally(\"G20PREDBID\", alias = \"D Votes\")\n",
    "    }\n",
    ") "
   ]
  },
  {
   "cell_type": "code",
   "execution_count": null,
   "metadata": {},
   "outputs": [],
   "source": [
    "rw_proposal = partial(recom, ## how you choose a next districting plan\n",
    "                      pop_col = \"P1_001N\", \n",
    "                      pop_target = ideal_pop, ## What the target/ideal population is for each district \n",
    "                      epsilon = pop_tolerance,  ## how far from ideal population you can deviate\n",
    "                      node_repeats = 10 ## number of times to repeat bipartition.  Can increase if you get a BipartitionWarning\n",
    "                      )"
   ]
  },
  {
   "cell_type": "code",
   "execution_count": null,
   "metadata": {},
   "outputs": [],
   "source": [
    "population_constraint = constraints.within_percent_of_ideal_population(\n",
    "    initial_partition, \n",
    "    pop_tolerance, \n",
    "    pop_key = \"district population\"\n",
    "    )"
   ]
  },
  {
   "cell_type": "markdown",
   "metadata": {},
   "source": [
    "Setting up the chain itself using the components we've set up."
   ]
  },
  {
   "cell_type": "code",
   "execution_count": null,
   "metadata": {},
   "outputs": [],
   "source": [
    "our_random_walk = MarkovChain(\n",
    "    proposal = rw_proposal, \n",
    "    constraints = [population_constraint],\n",
    "    accept = always_accept, # accepts every proposed plan that meets population criteria\n",
    "    initial_state = initial_partition, \n",
    "    total_steps = 10000\n",
    ")"
   ]
  },
  {
   "cell_type": "markdown",
   "metadata": {},
   "source": [
    "### Running the Chain"
   ]
  },
  {
   "cell_type": "code",
   "execution_count": null,
   "metadata": {},
   "outputs": [],
   "source": [
    "cutedge_ensemble = []\n",
    "nativemaj_ensemble = []\n",
    "nativemixedmaj_ensemble = []\n",
    "native_mixed_and_single_maj_ensemble = []\n",
    "d_ensemble = []\n",
    "\n",
    "for part in our_random_walk:\n",
    "    # Add cutedges to cutedges ensemble\n",
    "    cutedge_ensemble.append(len(part[\"our cut edges\"]))\n",
    "    \n",
    "    # Calculate number of native-majority districts \n",
    "    # Add to ensemble\n",
    "    native_this_step = []\n",
    "    for i in range(num_dist):\n",
    "        na_perc = part[\"district NAPOP\"][i]/part[\"district population\"][i]\n",
    "        native_this_step.append(na_perc)\n",
    "    native_this_step.sort()\n",
    "    nativemaj_ensemble.append(native_this_step)\n",
    "    # Calculate number of white-native-mixed-majority districts \n",
    "    # Add to ensemble\n",
    "    maj_native_mixed_this_step = []\n",
    "    for i in range(num_dist):\n",
    "        na_mixed_perc = part[\"district NAPOP_MIXED\"][i]/part[\"district population\"][i]\n",
    "        maj_native_mixed_this_step.append(na_mixed_perc)\n",
    "    maj_native_mixed_this_step.sort()\n",
    "    nativemixedmaj_ensemble.append(maj_native_mixed_this_step)\n",
    "    # Calculate number of districts where there is a majority white-native-mixed and native-single combined\n",
    "    # Add to ensemble\n",
    "    num_maj_native_mixed_and_single_this_step = []\n",
    "    for i in range(num_dist):\n",
    "        native_mixed_and_single_perc = (part[\"district NAPOP_MIXED\"][i]+part[\"district NAPOP\"][i])/part[\"district population\"][i]\n",
    "        num_maj_native_mixed_and_single_this_step.append(native_mixed_and_single_perc)\n",
    "    num_maj_native_mixed_and_single_this_step.sort()\n",
    "    native_mixed_and_single_maj_ensemble.append(num_maj_native_mixed_and_single_this_step)\n",
    "    # Calculate number of districts with more Democratic votes than Republican votes\n",
    "    d = 0\n",
    "    for i in range(num_dist):\n",
    "        if part[\"R Votes\"][i] < part[\"D Votes\"][i]: \n",
    "            d = d + 1\n",
    "    d_ensemble.append(d)\n",
    "\n",
    "\n",
    "print(cutedge_ensemble)\n",
    "print(nativemaj_ensemble)\n",
    "print(nativemixedmaj_ensemble)\n",
    "print(d_ensemble)"
   ]
  },
  {
   "cell_type": "markdown",
   "metadata": {},
   "source": [
    "### Creating Plots from our Data"
   ]
  },
  {
   "cell_type": "code",
   "execution_count": null,
   "metadata": {},
   "outputs": [],
   "source": [
    "\n",
    "dist_napop = [0] * num_dist\n",
    "dist_pop = [0] * num_dist\n",
    "dist_frac = [0] * num_dist\n",
    "a = np.array(nativemaj_ensemble)\n",
    "\n",
    "for node in state_graph.nodes(): \n",
    "    dist = int(state_graph.nodes()[node][\"district\"]) - 1 # Because districts are indexed starting at 1, not 0\n",
    "    dist_napop[dist] = dist_napop[dist] + state_graph.nodes()[node][\"P1_005N\"]\n",
    "    dist_pop[dist] = dist_pop[dist] + state_graph.nodes()[node][\"P1_001N\"]\n",
    "\n",
    "#Used for scatter plot for current plan\n",
    "for dist in range(1, num_dist):\n",
    "    dist_frac[dist] = (dist_napop[dist]/dist_pop[dist])\n",
    "\n",
    "dist_frac.sort()\n",
    "\n",
    "\n",
    "from pathlib import Path\n",
    "Path(\"Plots/MT/ensemble/2/native_single/2/\").mkdir(parents=True, exist_ok=True)\n",
    "# plot poitns on top of boxplot\n",
    "plt.figure()\n",
    "plt.axis([19.5, 31, 0, 0.7]) #useful for massive plots\n",
    "plt.boxplot(a, showfliers=False)\n",
    "plt.scatter(x = range(1, num_dist + 1), y = dist_frac, color = \"blue\" )\n",
    "plt.savefig('Plots/MT/ensemble/2/native_single/zoomedin2') \n",
    "\n",
    "\n",
    "\n",
    "plt.figure(figsize = (20,7))\n",
    "plt.boxplot(a)\n",
    "plt.scatter(x = range(1, num_dist + 1), y = dist_frac, color = \"blue\" )\n",
    "plt.savefig('Plots/MT/ensemble/2/native_single/zoomedout2') \n",
    "\n",
    "\n",
    "\n",
    "\n"
   ]
  },
  {
   "cell_type": "code",
   "execution_count": null,
   "metadata": {},
   "outputs": [],
   "source": [
    "a = np.array(native_mixed_and_single_maj_ensemble)\n",
    "\n",
    "\n",
    "\n",
    "dist_napop = [0] * num_dist\n",
    "dist_pop = [0] * num_dist\n",
    "dist_frac = [0] * num_dist\n",
    "\n",
    "\n",
    "for node in state_graph.nodes(): \n",
    "    dist = int(state_graph.nodes()[node][\"district\"]) - 1 # Because districts are indexed starting at 1, not 0\n",
    "    dist_napop[dist] = dist_napop[dist] + state_graph.nodes()[node][\"P1_005N\"] + state_graph.nodes()[node][\"P1_012N\"]\n",
    "    dist_pop[dist] = dist_pop[dist] + state_graph.nodes()[node][\"P1_001N\"]\n",
    "\n",
    "for dist in range(1, num_dist):\n",
    "    dist_frac[dist] = (dist_napop[dist]/dist_pop[dist])\n",
    "\n",
    "dist_frac.sort()\n",
    "\n",
    "\n",
    "from pathlib import Path\n",
    "Path(\"Plots/MT/ensemble/2/native_single+mixed\").mkdir(parents=True, exist_ok=True)\n",
    "\n",
    "# plot poitns on top of boxplot\n",
    "plt.figure()\n",
    "plt.axis([19.5, 31, 0, 0.7]) #useful for massive plots\n",
    "plt.boxplot(a, showfliers=False)\n",
    "plt.scatter(x = range(1, num_dist + 1), y = dist_frac, color = \"blue\" )\n",
    "plt.savefig(\"Plots/MT/ensemble/2/native_single+mixed/zoomedin2\")\n",
    "\n",
    "\n",
    "\n",
    "\n",
    "plt.figure(figsize = (20,7))\n",
    "#plt.axis([88.5, 102, 0, 0.6]) #usful for massive plots\n",
    "plt.boxplot(a)\n",
    "plt.scatter(x = range(1, num_dist + 1), y = dist_frac, color = \"blue\" )\n",
    "plt.savefig(\"Plots/MT/ensemble/2/native_single+mixed/zoomedout2\")\n",
    "\n",
    "\n",
    "plt.figure()\n",
    "plt.show()"
   ]
  },
  {
   "cell_type": "code",
   "execution_count": null,
   "metadata": {},
   "outputs": [],
   "source": [
    "plt.figure()\n",
    "plt.hist(d_ensemble, align = 'left', bins='auto')\n",
    "plt.savefig(\"Plots/MT/ensemble/2/d_ensemble2\")"
   ]
  },
  {
   "cell_type": "code",
   "execution_count": null,
   "metadata": {},
   "outputs": [],
   "source": [
    "\n",
    "plt.figure()\n",
    "plt.hist(cutedge_ensemble, align = 'left', bins='auto')\n",
    "plt.savefig(\"Plots/MT/ensemble/2/cutedges\")"
   ]
  }
 ],
 "metadata": {
  "kernelspec": {
   "display_name": "Python 3",
   "language": "python",
   "name": "python3"
  },
  "language_info": {
   "codemirror_mode": {
    "name": "ipython",
    "version": 3
   },
   "file_extension": ".py",
   "mimetype": "text/x-python",
   "name": "python",
   "nbconvert_exporter": "python",
   "pygments_lexer": "ipython3",
   "version": "3.10.16"
  }
 },
 "nbformat": 4,
 "nbformat_minor": 2
}
